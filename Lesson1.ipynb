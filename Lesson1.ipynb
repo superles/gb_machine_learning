{
 "cells": [
  {
   "cell_type": "markdown",
   "metadata": {},
   "source": [
    "#### Задача 1\n",
    "Из колоды в 52 карты извлекаются случайным образом 4 карты. a) Найти вероятность того, что все карты – крести. б) Найти вероятность, что среди 4-х карт окажется хотя бы один туз."
   ]
  },
  {
   "cell_type": "code",
   "execution_count": 3,
   "metadata": {},
   "outputs": [],
   "source": [
    "from math import factorial\n",
    "def combinations(n, k):\n",
    "    return int(factorial(n) / (factorial(k) * factorial(n - k)))\n",
    "def permutations(n):                              \n",
    "    return int(factorial(n))                      \n",
    "def arrangements(n, k):                           \n",
    "    return int(factorial(n) / factorial(n - k))   "
   ]
  },
  {
   "cell_type": "markdown",
   "metadata": {},
   "source": [
    "***а)***  Найти вероятность того, что все карты – крести"
   ]
  },
  {
   "cell_type": "markdown",
   "metadata": {
    "pycharm": {
     "name": "#%% md\n"
    }
   },
   "source": [
    "P - в выбранных четырех картах все крести\n",
    "\n",
    "n = сочетание 4 из 52\n",
    "m = сочетание 4 из 13"
   ]
  },
  {
   "cell_type": "code",
   "execution_count": 4,
   "metadata": {
    "pycharm": {
     "name": "#%%\n"
    }
   },
   "outputs": [
    {
     "name": "stdout",
     "output_type": "stream",
     "text": [
      "Вероятность того, что все карты - крести = 0.00264\n"
     ]
    }
   ],
   "source": [
    "n = combinations(52,4)\n",
    "m = combinations(13,4)\n",
    "P=m/n\n",
    "print(f'Вероятность того, что все карты - крести = {P :.5f}')"
   ]
  },
  {
   "cell_type": "markdown",
   "metadata": {},
   "source": [
    "***б)***  Найти вероятность, что среди 4-х карт окажется хотя бы один туз"
   ]
  },
  {
   "cell_type": "markdown",
   "metadata": {},
   "source": [
    "P - среди выбранных карт хотя бы один туз \n",
    "\n",
    "P = P1 + P2 + P3 + P4 \n",
    "\n",
    "P1,2,3,4 - среди выбранных 1,2,3,4 туза"
   ]
  },
  {
   "cell_type": "markdown",
   "metadata": {
    "pycharm": {
     "name": "#%% md\n"
    }
   },
   "source": [
    "n - сочетание 4 из 52\n",
    "\n",
    "m1 = (сочетание 1 из 4 ) * (сочетание 3 из 48)\n",
    "\n",
    "m2 = (сочетание 2 из 4 ) * (сочетание 2 из 48)\n",
    "\n",
    "m3 = (сочетание 3 из 4 ) * (сочетание 1 из 48)\n",
    "\n",
    "m4 = сочетание 4 из 4"
   ]
  },
  {
   "cell_type": "code",
   "execution_count": 37,
   "metadata": {
    "pycharm": {
     "name": "#%%\n"
    }
   },
   "outputs": [
    {
     "name": "stdout",
     "output_type": "stream",
     "text": [
      "Вероятность того, что из 4 вытащенных из колоды хотя бы один туз = 0.28126\n"
     ]
    }
   ],
   "source": [
    "P1 = combinations(4,1) * combinations(48,3) / n\n",
    "P2 = combinations(4,2) * combinations(48,2) / n\n",
    "P3 = combinations(4,3) * combinations(48,1) / n\n",
    "P4 = combinations(4,4) / n\n",
    "P = P1 + P2 + P3 + P4\n",
    "print(f'Вероятность того, что из 4 вытащенных из колоды хотя бы один туз = {P :.5f}')"
   ]
  },
  {
   "cell_type": "markdown",
   "metadata": {},
   "source": [
    "##### v2"
   ]
  },
  {
   "cell_type": "markdown",
   "metadata": {
    "pycharm": {
     "name": "#%% md\n"
    }
   },
   "source": [
    "Pv2 - среди выбранных карт хотя бы один туз\n",
    "PnotTuz - среди выбранных карт ни одного туза"
   ]
  },
  {
   "cell_type": "code",
   "execution_count": 38,
   "metadata": {
    "pycharm": {
     "name": "#%%\n"
    }
   },
   "outputs": [
    {
     "name": "stdout",
     "output_type": "stream",
     "text": [
      "Вероятность того, что из 4 вытащенных из колоды хотя бы один туз = 0.28126\n"
     ]
    }
   ],
   "source": [
    "PnotTuz = combinations(48,4)\n",
    "Pv2 = 1 - PnotTuz/combinations(52,4)\n",
    "print(f'Вероятность того, что из 4 вытащенных из колоды хотя бы один туз = {Pv2 :.5f}')"
   ]
  },
  {
   "cell_type": "markdown",
   "metadata": {},
   "source": [
    "#### Задача 2\n",
    "На входной двери подъезда установлен кодовый замок, содержащий десять кнопок с цифрами от 0 до 9. \n",
    "Код содержит три цифры, которые нужно нажать одновременно. \n",
    "Какова вероятность того, что человек, не знающий код, откроет дверь с первой попытки?"
   ]
  },
  {
   "cell_type": "markdown",
   "metadata": {
    "pycharm": {
     "name": "#%% md\n"
    }
   },
   "source": [
    "P - открыл с первой попытки\n",
    "\n",
    "n = размещение 3 из 10\n",
    "\n",
    "m = 1"
   ]
  },
  {
   "cell_type": "code",
   "execution_count": 30,
   "metadata": {
    "pycharm": {
     "name": "#%%\n"
    }
   },
   "outputs": [
    {
     "name": "stdout",
     "output_type": "stream",
     "text": [
      "Вероятность того, что дверь открыта с первой попытки = 0.00139\n"
     ]
    }
   ],
   "source": [
    "m = 1\n",
    "n = arrangements(10,3)\n",
    "P = m / n\n",
    "\n",
    "print(f'Вероятность того, что дверь открыта с первой попытки = {P :.5f}')"
   ]
  },
  {
   "cell_type": "markdown",
   "metadata": {},
   "source": [
    "#### Задача 3\n",
    "В ящике имеется 15 деталей, из которых 9 окрашены. Рабочий случайным образом извлекает 3 детали. Какова вероятность того, что все извлеченные детали окрашены?"
   ]
  },
  {
   "cell_type": "markdown",
   "metadata": {
    "pycharm": {
     "name": "#%% md\n"
    }
   },
   "source": [
    "Pdet - все три детали окрашены\n",
    "\n",
    "n - сочетание 3 из 15\n",
    "\n",
    "m - сочетание 3 из 9"
   ]
  },
  {
   "cell_type": "code",
   "execution_count": 8,
   "metadata": {
    "pycharm": {
     "name": "#%%\n"
    },
    "scrolled": true
   },
   "outputs": [
    {
     "name": "stdout",
     "output_type": "stream",
     "text": [
      "Вероятность того, что все извлеченные детали окрашены = 0.18\n"
     ]
    }
   ],
   "source": [
    "Pdet = combinations(9,3) / combinations(15,3)\n",
    "print(f'Вероятность того, что все извлеченные детали окрашены = {Pdet :.5f}')"
   ]
  },
  {
   "cell_type": "markdown",
   "metadata": {},
   "source": [
    "#### Задача 4\n",
    "В лотерее 100 билетов. Из них 2 выигрышных. Какова вероятность того, что 2 приобретенных билета окажутся выигрышными?"
   ]
  },
  {
   "cell_type": "markdown",
   "metadata": {
    "pycharm": {
     "name": "#%% md\n"
    }
   },
   "source": [
    "P - два приобретенных билета выигрышные\n",
    "\n",
    "n - сочетание 2 из 100\n",
    "\n",
    "m - сочетание 2 из 2"
   ]
  },
  {
   "cell_type": "code",
   "execution_count": 39,
   "metadata": {},
   "outputs": [
    {
     "name": "stdout",
     "output_type": "stream",
     "text": [
      "Вероятность того, что оба билета выигрышные = 0.00020\n"
     ]
    }
   ],
   "source": [
    "P = combinations(2,2) / combinations(100,2)\n",
    "print(f'Вероятность того, что оба билета выигрышные = {P :.5f}')"
   ]
  }
 ],
 "metadata": {
  "kernelspec": {
   "display_name": "Python 3",
   "language": "python",
   "name": "python3"
  },
  "language_info": {
   "codemirror_mode": {
    "name": "ipython",
    "version": 3
   },
   "file_extension": ".py",
   "mimetype": "text/x-python",
   "name": "python",
   "nbconvert_exporter": "python",
   "pygments_lexer": "ipython3",
   "version": "3.8.5"
  }
 },
 "nbformat": 4,
 "nbformat_minor": 2
}